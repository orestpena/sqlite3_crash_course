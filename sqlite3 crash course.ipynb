{
 "cells": [
  {
   "cell_type": "markdown",
   "id": "85a23c1e",
   "metadata": {},
   "source": [
    "# sqlite3 crash course"
   ]
  },
  {
   "cell_type": "markdown",
   "id": "c1a1830d",
   "metadata": {},
   "source": [
    "If you just type sqlite3 it will open a database that will only be maintained in memory and then will be lost.\n",
    "So it's good to open a db with a name.\n",
    "In this instance sqlite3 test.db\n",
    "\n",
    "executing in python is a little different from the cli\n",
    "\n",
    "https://docs.python.org/3/library/sqlite3.html\n",
    "\n",
    "This is a notebook for practice taken the info from the doc page"
   ]
  },
  {
   "cell_type": "code",
   "execution_count": 5,
   "id": "f264591d",
   "metadata": {},
   "outputs": [],
   "source": [
    "import sqlite3"
   ]
  },
  {
   "cell_type": "code",
   "execution_count": 6,
   "id": "070c9ba7",
   "metadata": {},
   "outputs": [],
   "source": [
    "con = sqlite3.connect('example.db')"
   ]
  },
  {
   "cell_type": "markdown",
   "id": "0f692fdc",
   "metadata": {},
   "source": [
    "The special path name :memory: can be provided to create a temporary database in RAM.\n",
    "\n",
    "Once a Connection has been established, create a Cursor object and call its execute() method to perform SQL commands:"
   ]
  },
  {
   "cell_type": "code",
   "execution_count": 7,
   "id": "a1418817",
   "metadata": {},
   "outputs": [],
   "source": [
    "cur = con.cursor()\n",
    "\n",
    "# Create table\n",
    "cur.execute('''CREATE TABLE stocks\n",
    "               (date text, trans text, symbol text, qty real, price real)''')\n",
    "\n",
    "# Insert a row of data\n",
    "cur.execute(\"INSERT INTO stocks VALUES ('2006-01-05','BUY','RHAT',100,35.14)\")\n",
    "\n",
    "# Save (commit) the changes\n",
    "con.commit()\n",
    "\n",
    "# We can also close the connection if we are done with it.\n",
    "# Just be sure any changes have been committed or they will be lost.\n",
    "con.close()"
   ]
  },
  {
   "cell_type": "markdown",
   "id": "45049523",
   "metadata": {},
   "source": [
    "The saved data is persistent: it can be reloaded in a subsequent session even after restarting the Python interpreter:"
   ]
  },
  {
   "cell_type": "code",
   "execution_count": 8,
   "id": "085bb1fd",
   "metadata": {},
   "outputs": [],
   "source": [
    "import sqlite3\n",
    "con = sqlite3.connect('example.db')\n",
    "cur = con.cursor()"
   ]
  },
  {
   "cell_type": "markdown",
   "id": "0cc949ee",
   "metadata": {},
   "source": [
    "To retrieve data after executing a SELECT statement, either treat the cursor as an iterator, call the cursor’s fetchone() method to retrieve a single matching row, or call fetchall() to get a list of the matching rows.\n",
    "\n",
    "This example uses the iterator form:"
   ]
  },
  {
   "cell_type": "code",
   "execution_count": 9,
   "id": "92355dec",
   "metadata": {},
   "outputs": [
    {
     "name": "stdout",
     "output_type": "stream",
     "text": [
      "('2006-01-05', 'BUY', 'RHAT', 100.0, 35.14)\n"
     ]
    }
   ],
   "source": [
    "for row in cur.execute('SELECT * FROM stocks ORDER BY price'):\n",
    "        print(row)"
   ]
  },
  {
   "cell_type": "markdown",
   "id": "4be638c5",
   "metadata": {},
   "source": [
    "SQL operations usually need to use values from Python variables. However, beware of using Python’s string operations to assemble queries, as they are vulnerable to SQL injection attacks (see the xkcd webcomic for a humorous example of what can go wrong):"
   ]
  },
  {
   "cell_type": "code",
   "execution_count": 10,
   "id": "c5f277dc",
   "metadata": {},
   "outputs": [
    {
     "data": {
      "text/plain": [
       "<sqlite3.Cursor at 0x7f2f407948f0>"
      ]
     },
     "execution_count": 10,
     "metadata": {},
     "output_type": "execute_result"
    }
   ],
   "source": [
    "# Never do this -- insecure!\n",
    "symbol = 'RHAT'\n",
    "cur.execute(\"SELECT * FROM stocks WHERE symbol = '%s'\" % symbol)"
   ]
  },
  {
   "cell_type": "markdown",
   "id": "3fd81c1d",
   "metadata": {},
   "source": [
    "Instead, use the DB-API’s parameter substitution. To insert a variable into a query string, use a placeholder in the string, and substitute the actual values into the query by providing them as a tuple of values to the second argument of the cursor’s execute() method. An SQL statement may use one of two kinds of placeholders: question marks (qmark style) or named placeholders (named style). For the qmark style, parameters must be a sequence. For the named style, it can be either a sequence or dict instance. The length of the sequence must match the number of placeholders, or a ProgrammingError is raised. If a dict is given, it must contain keys for all named parameters. Any extra items are ignored. Here’s an example of both styles:"
   ]
  },
  {
   "cell_type": "code",
   "execution_count": 11,
   "id": "6b690a9a",
   "metadata": {},
   "outputs": [
    {
     "name": "stdout",
     "output_type": "stream",
     "text": [
      "[('C', 1972)]\n"
     ]
    }
   ],
   "source": [
    "import sqlite3\n",
    "\n",
    "con = sqlite3.connect(\":memory:\")\n",
    "cur = con.cursor()\n",
    "cur.execute(\"create table lang (name, first_appeared)\")\n",
    "\n",
    "# This is the qmark style:\n",
    "cur.execute(\"insert into lang values (?, ?)\", (\"C\", 1972))\n",
    "\n",
    "# The qmark style used with executemany():\n",
    "lang_list = [\n",
    "    (\"Fortran\", 1957),\n",
    "    (\"Python\", 1991),\n",
    "    (\"Go\", 2009),\n",
    "]\n",
    "cur.executemany(\"insert into lang values (?, ?)\", lang_list)\n",
    "\n",
    "# And this is the named style:\n",
    "cur.execute(\"select * from lang where first_appeared=:year\", {\"year\": 1972})\n",
    "print(cur.fetchall())\n",
    "\n",
    "con.close()"
   ]
  },
  {
   "cell_type": "code",
   "execution_count": null,
   "id": "1f2d415a",
   "metadata": {},
   "outputs": [],
   "source": []
  }
 ],
 "metadata": {
  "kernelspec": {
   "display_name": "Python 3 (ipykernel)",
   "language": "python",
   "name": "python3"
  },
  "language_info": {
   "codemirror_mode": {
    "name": "ipython",
    "version": 3
   },
   "file_extension": ".py",
   "mimetype": "text/x-python",
   "name": "python",
   "nbconvert_exporter": "python",
   "pygments_lexer": "ipython3",
   "version": "3.9.12"
  }
 },
 "nbformat": 4,
 "nbformat_minor": 5
}
